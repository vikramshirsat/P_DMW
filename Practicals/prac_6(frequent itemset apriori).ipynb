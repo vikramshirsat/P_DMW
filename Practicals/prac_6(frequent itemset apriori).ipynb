{
 "cells": [
  {
   "cell_type": "code",
   "execution_count": 3,
   "id": "e860e10b",
   "metadata": {},
   "outputs": [
    {
     "name": "stdout",
     "output_type": "stream",
     "text": [
      "[['milk', 'onion', 'nutmeg', 'kidney beans', 'eggs', 'yogurt'], ['dill', 'onion', 'nutmeg', 'kidney beans', 'eggs', 'yogurt'], ['milk', 'apple', 'kidney beans', 'eggs'], ['milk', 'unicorn', 'corn', 'kidney beans', 'yogurt'], ['corn', 'onion', 'onion', 'kidney beans', 'ice creams', 'eggs']]\n"
     ]
    }
   ],
   "source": [
    "import pandas as pd\n",
    "from mlxtend.preprocessing import TransactionEncoder\n",
    "\n",
    "\n",
    "dataset = [['milk','onion','nutmeg','kidney beans','eggs','yogurt'],\n",
    "           ['dill','onion','nutmeg','kidney beans','eggs','yogurt'],\n",
    "           ['milk','apple','kidney beans','eggs'],\n",
    "           ['milk','unicorn','corn','kidney beans','yogurt'],\n",
    "           ['corn','onion','onion','kidney beans','ice creams','eggs']]\n",
    "print(dataset)\n",
    "\n"
   ]
  },
  {
   "cell_type": "code",
   "execution_count": 4,
   "id": "9ee0c2c3",
   "metadata": {},
   "outputs": [
    {
     "name": "stdout",
     "output_type": "stream",
     "text": [
      "   apple   corn   dill   eggs  ice creams  kidney beans   milk  nutmeg  onion  \\\n",
      "0  False  False  False   True       False          True   True    True   True   \n",
      "1  False  False   True   True       False          True  False    True   True   \n",
      "2   True  False  False   True       False          True   True   False  False   \n",
      "3  False   True  False  False       False          True   True   False  False   \n",
      "4  False   True  False   True        True          True  False   False   True   \n",
      "\n",
      "   unicorn  yogurt  \n",
      "0    False    True  \n",
      "1    False    True  \n",
      "2    False   False  \n",
      "3     True    True  \n",
      "4    False   False  \n"
     ]
    }
   ],
   "source": [
    "te = TransactionEncoder()\n",
    "te_ary = te.fit(dataset).transform(dataset)\n",
    "\n",
    "df = pd.DataFrame(te_ary, columns=te.columns_)\n",
    "print(df)\n",
    "\n"
   ]
  },
  {
   "cell_type": "code",
   "execution_count": 5,
   "id": "f6459d53",
   "metadata": {},
   "outputs": [
    {
     "name": "stdout",
     "output_type": "stream",
     "text": [
      "    support                     itemsets\n",
      "0       0.8                       (eggs)\n",
      "1       1.0               (kidney beans)\n",
      "2       0.6                       (milk)\n",
      "3       0.6                      (onion)\n",
      "4       0.6                     (yogurt)\n",
      "5       0.8         (eggs, kidney beans)\n",
      "6       0.6                (eggs, onion)\n",
      "7       0.6         (kidney beans, milk)\n",
      "8       0.6        (kidney beans, onion)\n",
      "9       0.6       (kidney beans, yogurt)\n",
      "10      0.6  (eggs, onion, kidney beans)\n",
      "    support   itemsets\n",
      "0       0.8        (3)\n",
      "1       1.0        (5)\n",
      "2       0.6        (6)\n",
      "3       0.6        (8)\n",
      "4       0.6       (10)\n",
      "5       0.8     (3, 5)\n",
      "6       0.6     (8, 3)\n",
      "7       0.6     (5, 6)\n",
      "8       0.6     (8, 5)\n",
      "9       0.6    (10, 5)\n",
      "10      0.6  (8, 3, 5)\n"
     ]
    }
   ],
   "source": [
    "from mlxtend.frequent_patterns import apriori\n",
    "freq_items = apriori(df,min_support=0.6,use_colnames=True)\n",
    "print(freq_items)\n",
    "\n",
    "freq_items1 = apriori(df,min_support=0.6,use_colnames=False)\n",
    "print(freq_items1)"
   ]
  },
  {
   "cell_type": "code",
   "execution_count": 7,
   "id": "84618dc9",
   "metadata": {},
   "outputs": [
    {
     "name": "stdout",
     "output_type": "stream",
     "text": [
      "              antecedents            consequents  antecedent support  \\\n",
      "0                  (eggs)         (kidney beans)                 0.8   \n",
      "1          (kidney beans)                 (eggs)                 1.0   \n",
      "2                  (eggs)                (onion)                 0.8   \n",
      "3                 (onion)                 (eggs)                 0.6   \n",
      "4                  (milk)         (kidney beans)                 0.6   \n",
      "5                 (onion)         (kidney beans)                 0.6   \n",
      "6                (yogurt)         (kidney beans)                 0.6   \n",
      "7           (eggs, onion)         (kidney beans)                 0.6   \n",
      "8    (eggs, kidney beans)                (onion)                 0.8   \n",
      "9   (kidney beans, onion)                 (eggs)                 0.6   \n",
      "10                 (eggs)  (kidney beans, onion)                 0.8   \n",
      "11                (onion)   (eggs, kidney beans)                 0.6   \n",
      "\n",
      "    consequent support  support  confidence  lift  leverage  conviction  \n",
      "0                  1.0      0.8        1.00  1.00      0.00         inf  \n",
      "1                  0.8      0.8        0.80  1.00      0.00         1.0  \n",
      "2                  0.6      0.6        0.75  1.25      0.12         1.6  \n",
      "3                  0.8      0.6        1.00  1.25      0.12         inf  \n",
      "4                  1.0      0.6        1.00  1.00      0.00         inf  \n",
      "5                  1.0      0.6        1.00  1.00      0.00         inf  \n",
      "6                  1.0      0.6        1.00  1.00      0.00         inf  \n",
      "7                  1.0      0.6        1.00  1.00      0.00         inf  \n",
      "8                  0.6      0.6        0.75  1.25      0.12         1.6  \n",
      "9                  0.8      0.6        1.00  1.25      0.12         inf  \n",
      "10                 0.6      0.6        0.75  1.25      0.12         1.6  \n",
      "11                 0.8      0.6        1.00  1.25      0.12         inf  \n"
     ]
    }
   ],
   "source": [
    "from mlxtend.frequent_patterns import  association_rules\n",
    "\n",
    "res = association_rules(freq_items,metric=\"confidence\",min_threshold=0.7)\n",
    "print(res)\n",
    "\n"
   ]
  },
  {
   "cell_type": "code",
   "execution_count": 8,
   "id": "9add7a01",
   "metadata": {},
   "outputs": [
    {
     "name": "stdout",
     "output_type": "stream",
     "text": [
      "              antecedents            consequents  support  confidence  lift\n",
      "0                  (eggs)         (kidney beans)      0.8        1.00  1.00\n",
      "1          (kidney beans)                 (eggs)      0.8        0.80  1.00\n",
      "2                  (eggs)                (onion)      0.6        0.75  1.25\n",
      "3                 (onion)                 (eggs)      0.6        1.00  1.25\n",
      "4                  (milk)         (kidney beans)      0.6        1.00  1.00\n",
      "5                 (onion)         (kidney beans)      0.6        1.00  1.00\n",
      "6                (yogurt)         (kidney beans)      0.6        1.00  1.00\n",
      "7           (eggs, onion)         (kidney beans)      0.6        1.00  1.00\n",
      "8    (eggs, kidney beans)                (onion)      0.6        0.75  1.25\n",
      "9   (kidney beans, onion)                 (eggs)      0.6        1.00  1.25\n",
      "10                 (eggs)  (kidney beans, onion)      0.6        0.75  1.25\n",
      "11                (onion)   (eggs, kidney beans)      0.6        1.00  1.25\n"
     ]
    }
   ],
   "source": [
    "res1 = res[['antecedents','consequents','support','confidence','lift']]\n",
    "print(res1)\n"
   ]
  },
  {
   "cell_type": "code",
   "execution_count": 9,
   "id": "47c586a7",
   "metadata": {},
   "outputs": [
    {
     "name": "stdout",
     "output_type": "stream",
     "text": [
      "              antecedents           consequents  antecedent support  \\\n",
      "0                  (eggs)        (kidney beans)                 0.8   \n",
      "3                 (onion)                (eggs)                 0.6   \n",
      "4                  (milk)        (kidney beans)                 0.6   \n",
      "5                 (onion)        (kidney beans)                 0.6   \n",
      "6                (yogurt)        (kidney beans)                 0.6   \n",
      "7           (eggs, onion)        (kidney beans)                 0.6   \n",
      "9   (kidney beans, onion)                (eggs)                 0.6   \n",
      "11                (onion)  (eggs, kidney beans)                 0.6   \n",
      "\n",
      "    consequent support  support  confidence  lift  leverage  conviction  \n",
      "0                  1.0      0.8         1.0  1.00      0.00         inf  \n",
      "3                  0.8      0.6         1.0  1.25      0.12         inf  \n",
      "4                  1.0      0.6         1.0  1.00      0.00         inf  \n",
      "5                  1.0      0.6         1.0  1.00      0.00         inf  \n",
      "6                  1.0      0.6         1.0  1.00      0.00         inf  \n",
      "7                  1.0      0.6         1.0  1.00      0.00         inf  \n",
      "9                  0.8      0.6         1.0  1.25      0.12         inf  \n",
      "11                 0.8      0.6         1.0  1.25      0.12         inf  \n"
     ]
    }
   ],
   "source": [
    "\n",
    "res2 = res[res1['confidence']>=1]\n",
    "print(res2)"
   ]
  },
  {
   "cell_type": "code",
   "execution_count": null,
   "id": "59bab6f5",
   "metadata": {},
   "outputs": [],
   "source": []
  }
 ],
 "metadata": {
  "kernelspec": {
   "display_name": "Python 3 (ipykernel)",
   "language": "python",
   "name": "python3"
  },
  "language_info": {
   "codemirror_mode": {
    "name": "ipython",
    "version": 3
   },
   "file_extension": ".py",
   "mimetype": "text/x-python",
   "name": "python",
   "nbconvert_exporter": "python",
   "pygments_lexer": "ipython3",
   "version": "3.9.7"
  }
 },
 "nbformat": 4,
 "nbformat_minor": 5
}
