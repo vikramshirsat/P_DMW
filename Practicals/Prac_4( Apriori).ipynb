{
 "cells": [
  {
   "cell_type": "markdown",
   "metadata": {
    "id": "view-in-github"
   },
   "source": [
    "<a href=\"https://colab.research.google.com/github/GauriRB/DMW_Practical/blob/main/Apriori.ipynb\" target=\"_parent\"><img src=\"https://colab.research.google.com/assets/colab-badge.svg\" alt=\"Open In Colab\"/></a>"
   ]
  },
  {
   "cell_type": "code",
   "execution_count": 24,
   "metadata": {
    "id": "kFuHTrnFE-_O"
   },
   "outputs": [],
   "source": [
    "import numpy as pi\n",
    "import matplotlib.pyplot as plt\n",
    "import pandas as pd\n",
    "from mlxtend.frequent_patterns import apriori, association_rules"
   ]
  },
  {
   "cell_type": "code",
   "execution_count": 25,
   "metadata": {},
   "outputs": [
    {
     "name": "stdout",
     "output_type": "stream",
     "text": [
      "Requirement already satisfied: mlxtend in c:\\users\\rdrl\\anaconda3\\lib\\site-packages (0.21.0)\n",
      "Requirement already satisfied: setuptools in c:\\users\\rdrl\\anaconda3\\lib\\site-packages (from mlxtend) (58.0.4)\n",
      "Requirement already satisfied: scikit-learn>=1.0.2 in c:\\users\\rdrl\\appdata\\roaming\\python\\python39\\site-packages (from mlxtend) (1.1.2)\n",
      "Requirement already satisfied: joblib>=0.13.2 in c:\\users\\rdrl\\anaconda3\\lib\\site-packages (from mlxtend) (1.1.0)\n",
      "Requirement already satisfied: numpy>=1.16.2 in c:\\users\\rdrl\\appdata\\roaming\\python\\python39\\site-packages (from mlxtend) (1.21.4)\n",
      "Requirement already satisfied: scipy>=1.2.1 in c:\\users\\rdrl\\anaconda3\\lib\\site-packages (from mlxtend) (1.7.1)\n",
      "Requirement already satisfied: pandas>=0.24.2 in c:\\users\\rdrl\\appdata\\roaming\\python\\python39\\site-packages (from mlxtend) (1.3.4)\n",
      "Requirement already satisfied: matplotlib>=3.0.0 in c:\\users\\rdrl\\appdata\\roaming\\python\\python39\\site-packages (from mlxtend) (3.5.0)\n",
      "Requirement already satisfied: pillow>=6.2.0 in c:\\users\\rdrl\\appdata\\roaming\\python\\python39\\site-packages (from matplotlib>=3.0.0->mlxtend) (8.4.0)\n",
      "Requirement already satisfied: packaging>=20.0 in c:\\users\\rdrl\\appdata\\roaming\\python\\python39\\site-packages (from matplotlib>=3.0.0->mlxtend) (21.3)\n",
      "Requirement already satisfied: cycler>=0.10 in c:\\users\\rdrl\\appdata\\roaming\\python\\python39\\site-packages (from matplotlib>=3.0.0->mlxtend) (0.11.0)\n",
      "Requirement already satisfied: pyparsing>=2.2.1 in c:\\users\\rdrl\\appdata\\roaming\\python\\python39\\site-packages (from matplotlib>=3.0.0->mlxtend) (3.0.6)\n",
      "Requirement already satisfied: fonttools>=4.22.0 in c:\\users\\rdrl\\appdata\\roaming\\python\\python39\\site-packages (from matplotlib>=3.0.0->mlxtend) (4.28.3)\n",
      "Requirement already satisfied: python-dateutil>=2.7 in c:\\users\\rdrl\\appdata\\roaming\\python\\python39\\site-packages (from matplotlib>=3.0.0->mlxtend) (2.8.2)\n",
      "Requirement already satisfied: setuptools-scm>=4 in c:\\users\\rdrl\\appdata\\roaming\\python\\python39\\site-packages (from matplotlib>=3.0.0->mlxtend) (6.3.2)\n",
      "Requirement already satisfied: kiwisolver>=1.0.1 in c:\\users\\rdrl\\appdata\\roaming\\python\\python39\\site-packages (from matplotlib>=3.0.0->mlxtend) (1.3.2)\n",
      "Requirement already satisfied: pytz>=2017.3 in c:\\users\\rdrl\\appdata\\roaming\\python\\python39\\site-packages (from pandas>=0.24.2->mlxtend) (2021.3)\n",
      "Requirement already satisfied: threadpoolctl>=2.0.0 in c:\\users\\rdrl\\anaconda3\\lib\\site-packages (from scikit-learn>=1.0.2->mlxtend) (2.2.0)\n",
      "Requirement already satisfied: six>=1.5 in c:\\users\\rdrl\\appdata\\roaming\\python\\python39\\site-packages (from python-dateutil>=2.7->matplotlib>=3.0.0->mlxtend) (1.16.0)\n",
      "Requirement already satisfied: tomli>=1.0.0 in c:\\users\\rdrl\\appdata\\roaming\\python\\python39\\site-packages (from setuptools-scm>=4->matplotlib>=3.0.0->mlxtend) (1.2.2)\n"
     ]
    }
   ],
   "source": [
    "!pip install mlxtend"
   ]
  },
  {
   "cell_type": "code",
   "execution_count": 26,
   "metadata": {
    "id": "HNZbc5xiJfVt"
   },
   "outputs": [],
   "source": [
    "data=pd.read_csv(\"CanteenDataSet.csv\")"
   ]
  },
  {
   "cell_type": "code",
   "execution_count": 27,
   "metadata": {
    "colab": {
     "base_uri": "https://localhost:8080/",
     "height": 645
    },
    "id": "hFzqDRG_JoB5",
    "outputId": "d6f8cd87-4a21-4801-e981-342d5fd9b94e"
   },
   "outputs": [
    {
     "data": {
      "text/html": [
       "<div>\n",
       "<style scoped>\n",
       "    .dataframe tbody tr th:only-of-type {\n",
       "        vertical-align: middle;\n",
       "    }\n",
       "\n",
       "    .dataframe tbody tr th {\n",
       "        vertical-align: top;\n",
       "    }\n",
       "\n",
       "    .dataframe thead th {\n",
       "        text-align: right;\n",
       "    }\n",
       "</style>\n",
       "<table border=\"1\" class=\"dataframe\">\n",
       "  <thead>\n",
       "    <tr style=\"text-align: right;\">\n",
       "      <th></th>\n",
       "      <th>Tea, Samosa, Sandwich</th>\n",
       "    </tr>\n",
       "  </thead>\n",
       "  <tbody>\n",
       "    <tr>\n",
       "      <th>0</th>\n",
       "      <td>Samosa, Tea, Sandwich, Noodles</td>\n",
       "    </tr>\n",
       "    <tr>\n",
       "      <th>1</th>\n",
       "      <td>Samosa, Cold Coffee, French Fries</td>\n",
       "    </tr>\n",
       "    <tr>\n",
       "      <th>2</th>\n",
       "      <td>Pizza, Maggie,Samosa,Tea</td>\n",
       "    </tr>\n",
       "    <tr>\n",
       "      <th>3</th>\n",
       "      <td>Maggie,Cold Coffee,Sandwich</td>\n",
       "    </tr>\n",
       "    <tr>\n",
       "      <th>4</th>\n",
       "      <td>Samosa,Cold Coffee,French Fries</td>\n",
       "    </tr>\n",
       "    <tr>\n",
       "      <th>5</th>\n",
       "      <td>Maggie,Cold Coffee,Noodles</td>\n",
       "    </tr>\n",
       "    <tr>\n",
       "      <th>6</th>\n",
       "      <td>Maggie,Samosa,Cold Coffee,Sandwich</td>\n",
       "    </tr>\n",
       "    <tr>\n",
       "      <th>7</th>\n",
       "      <td>Pizza,Maggie,Samosa,Cold Coffee</td>\n",
       "    </tr>\n",
       "    <tr>\n",
       "      <th>8</th>\n",
       "      <td>Samosa,Tea</td>\n",
       "    </tr>\n",
       "    <tr>\n",
       "      <th>9</th>\n",
       "      <td>Black Tea,Manchurian,Sandwich,Noodles</td>\n",
       "    </tr>\n",
       "    <tr>\n",
       "      <th>10</th>\n",
       "      <td>Black Tea,Manchurian,Sandwich,Noodles</td>\n",
       "    </tr>\n",
       "    <tr>\n",
       "      <th>11</th>\n",
       "      <td>Black Tea,Fried Maggie,French Fries</td>\n",
       "    </tr>\n",
       "    <tr>\n",
       "      <th>12</th>\n",
       "      <td>Samosa,Black Tea,Manchurian</td>\n",
       "    </tr>\n",
       "    <tr>\n",
       "      <th>13</th>\n",
       "      <td>Samosa,Fried Maggie,Sandwich</td>\n",
       "    </tr>\n",
       "    <tr>\n",
       "      <th>14</th>\n",
       "      <td>Black Tea,Fried Maggie,Sandwich</td>\n",
       "    </tr>\n",
       "    <tr>\n",
       "      <th>15</th>\n",
       "      <td>Samosa,Fried Maggie,French Fries</td>\n",
       "    </tr>\n",
       "    <tr>\n",
       "      <th>16</th>\n",
       "      <td>Samosa,Black Tea,Fried Maggie</td>\n",
       "    </tr>\n",
       "    <tr>\n",
       "      <th>17</th>\n",
       "      <td>Samosa,Black Tea,Fried Maggie</td>\n",
       "    </tr>\n",
       "    <tr>\n",
       "      <th>18</th>\n",
       "      <td>Cold Coffee,Tea,Black Tea,Noodles</td>\n",
       "    </tr>\n",
       "  </tbody>\n",
       "</table>\n",
       "</div>"
      ],
      "text/plain": [
       "                    Tea, Samosa, Sandwich\n",
       "0          Samosa, Tea, Sandwich, Noodles\n",
       "1       Samosa, Cold Coffee, French Fries\n",
       "2                Pizza, Maggie,Samosa,Tea\n",
       "3             Maggie,Cold Coffee,Sandwich\n",
       "4         Samosa,Cold Coffee,French Fries\n",
       "5              Maggie,Cold Coffee,Noodles\n",
       "6      Maggie,Samosa,Cold Coffee,Sandwich\n",
       "7         Pizza,Maggie,Samosa,Cold Coffee\n",
       "8                              Samosa,Tea\n",
       "9   Black Tea,Manchurian,Sandwich,Noodles\n",
       "10  Black Tea,Manchurian,Sandwich,Noodles\n",
       "11    Black Tea,Fried Maggie,French Fries\n",
       "12            Samosa,Black Tea,Manchurian\n",
       "13           Samosa,Fried Maggie,Sandwich\n",
       "14        Black Tea,Fried Maggie,Sandwich\n",
       "15       Samosa,Fried Maggie,French Fries\n",
       "16          Samosa,Black Tea,Fried Maggie\n",
       "17          Samosa,Black Tea,Fried Maggie\n",
       "18      Cold Coffee,Tea,Black Tea,Noodles"
      ]
     },
     "execution_count": 27,
     "metadata": {},
     "output_type": "execute_result"
    }
   ],
   "source": [
    "data"
   ]
  },
  {
   "cell_type": "code",
   "execution_count": 28,
   "metadata": {
    "colab": {
     "base_uri": "https://localhost:8080/"
    },
    "id": "8qqAhqkxKedT",
    "outputId": "f7553e13-c473-409e-89bb-f282b9d7026a"
   },
   "outputs": [
    {
     "data": {
      "text/plain": [
       "(19, 1)"
      ]
     },
     "execution_count": 28,
     "metadata": {},
     "output_type": "execute_result"
    }
   ],
   "source": [
    "data.shape"
   ]
  },
  {
   "cell_type": "code",
   "execution_count": 29,
   "metadata": {
    "id": "rei2-VemKt8V"
   },
   "outputs": [],
   "source": [
    "data.shape\n",
    "data.columns=['Dishes']"
   ]
  },
  {
   "cell_type": "code",
   "execution_count": 30,
   "metadata": {
    "id": "i-c-0BKSMOyr"
   },
   "outputs": [
    {
     "name": "stdout",
     "output_type": "stream",
     "text": [
      "['Samosa, Tea, Sandwich, Noodles' 'Samosa, Cold Coffee, French Fries'\n",
      " 'Pizza, Maggie,Samosa,Tea' 'Maggie,Cold Coffee,Sandwich'\n",
      " 'Samosa,Cold Coffee,French Fries' 'Maggie,Cold Coffee,Noodles'\n",
      " 'Maggie,Samosa,Cold Coffee,Sandwich' 'Pizza,Maggie,Samosa,Cold Coffee'\n",
      " 'Samosa,Tea' 'Black Tea,Manchurian,Sandwich,Noodles'\n",
      " 'Black Tea,Manchurian,Sandwich,Noodles'\n",
      " 'Black Tea,Fried Maggie,French Fries' 'Samosa,Black Tea,Manchurian'\n",
      " 'Samosa,Fried Maggie,Sandwich' 'Black Tea,Fried Maggie,Sandwich'\n",
      " 'Samosa,Fried Maggie,French Fries' 'Samosa,Black Tea,Fried Maggie'\n",
      " 'Samosa,Black Tea,Fried Maggie' 'Cold Coffee,Tea,Black Tea,Noodles']\n"
     ]
    }
   ],
   "source": [
    "from mlxtend.preprocessing import TransactionEncoder \n",
    "# We can transform data into the right format via the TransactionEncoder\n",
    "# Via the fit method, the TransactionEncoder learns the unique labels in the dataset,\n",
    "# and via the transform method, it transforms the input dataset \n",
    "#(a Python list of lists) into a one-hot encoded NumPy boolean array\n",
    "transactions=[]\n",
    "items=data['Dishes'].values\n",
    "print(items)"
   ]
  },
  {
   "cell_type": "code",
   "execution_count": 31,
   "metadata": {
    "colab": {
     "base_uri": "https://localhost:8080/"
    },
    "id": "UA88uorLMW6D",
    "outputId": "2bb6c080-aede-4d61-e1f6-3a08f59bc30a"
   },
   "outputs": [
    {
     "name": "stdout",
     "output_type": "stream",
     "text": [
      "[['Samosa', ' Tea', ' Sandwich', ' Noodles'], ['Samosa', ' Cold Coffee', ' French Fries'], ['Pizza', ' Maggie', 'Samosa', 'Tea'], ['Maggie', 'Cold Coffee', 'Sandwich'], ['Samosa', 'Cold Coffee', 'French Fries'], ['Maggie', 'Cold Coffee', 'Noodles'], ['Maggie', 'Samosa', 'Cold Coffee', 'Sandwich'], ['Pizza', 'Maggie', 'Samosa', 'Cold Coffee'], ['Samosa', 'Tea'], ['Black Tea', 'Manchurian', 'Sandwich', 'Noodles'], ['Black Tea', 'Manchurian', 'Sandwich', 'Noodles'], ['Black Tea', 'Fried Maggie', 'French Fries'], ['Samosa', 'Black Tea', 'Manchurian'], ['Samosa', 'Fried Maggie', 'Sandwich'], ['Black Tea', 'Fried Maggie', 'Sandwich'], ['Samosa', 'Fried Maggie', 'French Fries'], ['Samosa', 'Black Tea', 'Fried Maggie'], ['Samosa', 'Black Tea', 'Fried Maggie'], ['Cold Coffee', 'Tea', 'Black Tea', 'Noodles']]\n"
     ]
    }
   ],
   "source": [
    "for i in range (0,len(items)):\n",
    "    transactions.append(items[i].split(\",\"))\n",
    "    \n",
    "print(transactions)"
   ]
  },
  {
   "cell_type": "code",
   "execution_count": 32,
   "metadata": {
    "colab": {
     "base_uri": "https://localhost:8080/"
    },
    "id": "PjOiedRQLwuM",
    "outputId": "8f046211-0a36-41b8-d104-9837c7b03c7a"
   },
   "outputs": [
    {
     "name": "stdout",
     "output_type": "stream",
     "text": [
      "[[False False False  True  True  True False False False False False False\n",
      "  False False  True False False]\n",
      " [ True  True False False False False False False False False False False\n",
      "  False False  True False False]\n",
      " [False False  True False False False False False False False False False\n",
      "  False  True  True False  True]\n",
      " [False False False False False False False  True False False  True False\n",
      "  False False False  True False]\n",
      " [False False False False False False False  True  True False False False\n",
      "  False False  True False False]\n",
      " [False False False False False False False  True False False  True False\n",
      "   True False False False False]\n",
      " [False False False False False False False  True False False  True False\n",
      "  False False  True  True False]\n",
      " [False False False False False False False  True False False  True False\n",
      "  False  True  True False False]\n",
      " [False False False False False False False False False False False False\n",
      "  False False  True False  True]\n",
      " [False False False False False False  True False False False False  True\n",
      "   True False False  True False]\n",
      " [False False False False False False  True False False False False  True\n",
      "   True False False  True False]\n",
      " [False False False False False False  True False  True  True False False\n",
      "  False False False False False]\n",
      " [False False False False False False  True False False False False  True\n",
      "  False False  True False False]\n",
      " [False False False False False False False False False  True False False\n",
      "  False False  True  True False]\n",
      " [False False False False False False  True False False  True False False\n",
      "  False False False  True False]\n",
      " [False False False False False False False False  True  True False False\n",
      "  False False  True False False]\n",
      " [False False False False False False  True False False  True False False\n",
      "  False False  True False False]\n",
      " [False False False False False False  True False False  True False False\n",
      "  False False  True False False]\n",
      " [False False False False False False  True  True False False False False\n",
      "   True False False False  True]]\n"
     ]
    }
   ],
   "source": [
    "encoder=TransactionEncoder()\n",
    "tran=encoder.fit(transactions).transform(transactions)\n",
    "print(tran)"
   ]
  },
  {
   "cell_type": "code",
   "execution_count": 33,
   "metadata": {
    "colab": {
     "base_uri": "https://localhost:8080/"
    },
    "id": "uNhbffUPRNxR",
    "outputId": "06a9a378-aff0-42ba-8897-0c1c33dd2978"
   },
   "outputs": [
    {
     "name": "stdout",
     "output_type": "stream",
     "text": [
      "     Cold Coffee   French Fries   Maggie   Noodles   Sandwich   Tea  \\\n",
      "0              0              0        0         1          1     1   \n",
      "1              1              1        0         0          0     0   \n",
      "2              0              0        1         0          0     0   \n",
      "3              0              0        0         0          0     0   \n",
      "4              0              0        0         0          0     0   \n",
      "5              0              0        0         0          0     0   \n",
      "6              0              0        0         0          0     0   \n",
      "7              0              0        0         0          0     0   \n",
      "8              0              0        0         0          0     0   \n",
      "9              0              0        0         0          0     0   \n",
      "10             0              0        0         0          0     0   \n",
      "11             0              0        0         0          0     0   \n",
      "12             0              0        0         0          0     0   \n",
      "13             0              0        0         0          0     0   \n",
      "14             0              0        0         0          0     0   \n",
      "15             0              0        0         0          0     0   \n",
      "16             0              0        0         0          0     0   \n",
      "17             0              0        0         0          0     0   \n",
      "18             0              0        0         0          0     0   \n",
      "\n",
      "    Black Tea  Cold Coffee  French Fries  Fried Maggie  Maggie  Manchurian  \\\n",
      "0           0            0             0             0       0           0   \n",
      "1           0            0             0             0       0           0   \n",
      "2           0            0             0             0       0           0   \n",
      "3           0            1             0             0       1           0   \n",
      "4           0            1             1             0       0           0   \n",
      "5           0            1             0             0       1           0   \n",
      "6           0            1             0             0       1           0   \n",
      "7           0            1             0             0       1           0   \n",
      "8           0            0             0             0       0           0   \n",
      "9           1            0             0             0       0           1   \n",
      "10          1            0             0             0       0           1   \n",
      "11          1            0             1             1       0           0   \n",
      "12          1            0             0             0       0           1   \n",
      "13          0            0             0             1       0           0   \n",
      "14          1            0             0             1       0           0   \n",
      "15          0            0             1             1       0           0   \n",
      "16          1            0             0             1       0           0   \n",
      "17          1            0             0             1       0           0   \n",
      "18          1            1             0             0       0           0   \n",
      "\n",
      "    Noodles  Pizza  Samosa  Sandwich  Tea  \n",
      "0         0      0       1         0    0  \n",
      "1         0      0       1         0    0  \n",
      "2         0      1       1         0    1  \n",
      "3         0      0       0         1    0  \n",
      "4         0      0       1         0    0  \n",
      "5         1      0       0         0    0  \n",
      "6         0      0       1         1    0  \n",
      "7         0      1       1         0    0  \n",
      "8         0      0       1         0    1  \n",
      "9         1      0       0         1    0  \n",
      "10        1      0       0         1    0  \n",
      "11        0      0       0         0    0  \n",
      "12        0      0       1         0    0  \n",
      "13        0      0       1         1    0  \n",
      "14        0      0       0         1    0  \n",
      "15        0      0       1         0    0  \n",
      "16        0      0       1         0    0  \n",
      "17        0      0       1         0    0  \n",
      "18        1      0       0         0    1  \n"
     ]
    }
   ],
   "source": [
    "encodedData=pd.DataFrame(data = tran, columns = encoder.columns_, dtype = int)\n",
    "print(encodedData)"
   ]
  },
  {
   "cell_type": "code",
   "execution_count": 34,
   "metadata": {
    "colab": {
     "base_uri": "https://localhost:8080/",
     "height": 256
    },
    "id": "ETB60_ZfRXEn",
    "outputId": "438b8d43-ab92-4162-dd34-2b94af17e357"
   },
   "outputs": [
    {
     "data": {
      "text/html": [
       "<div>\n",
       "<style scoped>\n",
       "    .dataframe tbody tr th:only-of-type {\n",
       "        vertical-align: middle;\n",
       "    }\n",
       "\n",
       "    .dataframe tbody tr th {\n",
       "        vertical-align: top;\n",
       "    }\n",
       "\n",
       "    .dataframe thead th {\n",
       "        text-align: right;\n",
       "    }\n",
       "</style>\n",
       "<table border=\"1\" class=\"dataframe\">\n",
       "  <thead>\n",
       "    <tr style=\"text-align: right;\">\n",
       "      <th></th>\n",
       "      <th>Cold Coffee</th>\n",
       "      <th>French Fries</th>\n",
       "      <th>Maggie</th>\n",
       "      <th>Noodles</th>\n",
       "      <th>Sandwich</th>\n",
       "      <th>Tea</th>\n",
       "      <th>Black Tea</th>\n",
       "      <th>Cold Coffee</th>\n",
       "      <th>French Fries</th>\n",
       "      <th>Fried Maggie</th>\n",
       "      <th>Maggie</th>\n",
       "      <th>Manchurian</th>\n",
       "      <th>Noodles</th>\n",
       "      <th>Pizza</th>\n",
       "      <th>Samosa</th>\n",
       "      <th>Sandwich</th>\n",
       "      <th>Tea</th>\n",
       "    </tr>\n",
       "  </thead>\n",
       "  <tbody>\n",
       "    <tr>\n",
       "      <th>0</th>\n",
       "      <td>0</td>\n",
       "      <td>0</td>\n",
       "      <td>0</td>\n",
       "      <td>1</td>\n",
       "      <td>1</td>\n",
       "      <td>1</td>\n",
       "      <td>0</td>\n",
       "      <td>0</td>\n",
       "      <td>0</td>\n",
       "      <td>0</td>\n",
       "      <td>0</td>\n",
       "      <td>0</td>\n",
       "      <td>0</td>\n",
       "      <td>0</td>\n",
       "      <td>1</td>\n",
       "      <td>0</td>\n",
       "      <td>0</td>\n",
       "    </tr>\n",
       "    <tr>\n",
       "      <th>1</th>\n",
       "      <td>1</td>\n",
       "      <td>1</td>\n",
       "      <td>0</td>\n",
       "      <td>0</td>\n",
       "      <td>0</td>\n",
       "      <td>0</td>\n",
       "      <td>0</td>\n",
       "      <td>0</td>\n",
       "      <td>0</td>\n",
       "      <td>0</td>\n",
       "      <td>0</td>\n",
       "      <td>0</td>\n",
       "      <td>0</td>\n",
       "      <td>0</td>\n",
       "      <td>1</td>\n",
       "      <td>0</td>\n",
       "      <td>0</td>\n",
       "    </tr>\n",
       "    <tr>\n",
       "      <th>2</th>\n",
       "      <td>0</td>\n",
       "      <td>0</td>\n",
       "      <td>1</td>\n",
       "      <td>0</td>\n",
       "      <td>0</td>\n",
       "      <td>0</td>\n",
       "      <td>0</td>\n",
       "      <td>0</td>\n",
       "      <td>0</td>\n",
       "      <td>0</td>\n",
       "      <td>0</td>\n",
       "      <td>0</td>\n",
       "      <td>0</td>\n",
       "      <td>1</td>\n",
       "      <td>1</td>\n",
       "      <td>0</td>\n",
       "      <td>1</td>\n",
       "    </tr>\n",
       "    <tr>\n",
       "      <th>3</th>\n",
       "      <td>0</td>\n",
       "      <td>0</td>\n",
       "      <td>0</td>\n",
       "      <td>0</td>\n",
       "      <td>0</td>\n",
       "      <td>0</td>\n",
       "      <td>0</td>\n",
       "      <td>1</td>\n",
       "      <td>0</td>\n",
       "      <td>0</td>\n",
       "      <td>1</td>\n",
       "      <td>0</td>\n",
       "      <td>0</td>\n",
       "      <td>0</td>\n",
       "      <td>0</td>\n",
       "      <td>1</td>\n",
       "      <td>0</td>\n",
       "    </tr>\n",
       "  </tbody>\n",
       "</table>\n",
       "</div>"
      ],
      "text/plain": [
       "    Cold Coffee   French Fries   Maggie   Noodles   Sandwich   Tea  Black Tea  \\\n",
       "0             0              0        0         1          1     1          0   \n",
       "1             1              1        0         0          0     0          0   \n",
       "2             0              0        1         0          0     0          0   \n",
       "3             0              0        0         0          0     0          0   \n",
       "\n",
       "   Cold Coffee  French Fries  Fried Maggie  Maggie  Manchurian  Noodles  \\\n",
       "0            0             0             0       0           0        0   \n",
       "1            0             0             0       0           0        0   \n",
       "2            0             0             0       0           0        0   \n",
       "3            1             0             0       1           0        0   \n",
       "\n",
       "   Pizza  Samosa  Sandwich  Tea  \n",
       "0      0       1         0    0  \n",
       "1      0       1         0    0  \n",
       "2      1       1         0    1  \n",
       "3      0       0         1    0  "
      ]
     },
     "execution_count": 34,
     "metadata": {},
     "output_type": "execute_result"
    }
   ],
   "source": [
    "encodedData.head(4)"
   ]
  },
  {
   "cell_type": "code",
   "execution_count": 35,
   "metadata": {
    "colab": {
     "base_uri": "https://localhost:8080/",
     "height": 368
    },
    "id": "0J1XLd6TRelN",
    "outputId": "2566a99d-8f97-4fb4-da65-971dc80c1986"
   },
   "outputs": [
    {
     "name": "stderr",
     "output_type": "stream",
     "text": [
      "C:\\Users\\RDRL\\anaconda3\\lib\\site-packages\\mlxtend\\frequent_patterns\\fpcommon.py:111: DeprecationWarning: DataFrames with non-bool types result in worse computationalperformance and their support might be discontinued in the future.Please use a DataFrame with bool type\n",
      "  warnings.warn(\n"
     ]
    },
    {
     "data": {
      "text/html": [
       "<div>\n",
       "<style scoped>\n",
       "    .dataframe tbody tr th:only-of-type {\n",
       "        vertical-align: middle;\n",
       "    }\n",
       "\n",
       "    .dataframe tbody tr th {\n",
       "        vertical-align: top;\n",
       "    }\n",
       "\n",
       "    .dataframe thead th {\n",
       "        text-align: right;\n",
       "    }\n",
       "</style>\n",
       "<table border=\"1\" class=\"dataframe\">\n",
       "  <thead>\n",
       "    <tr style=\"text-align: right;\">\n",
       "      <th></th>\n",
       "      <th>antecedents</th>\n",
       "      <th>consequents</th>\n",
       "      <th>antecedent support</th>\n",
       "      <th>consequent support</th>\n",
       "      <th>support</th>\n",
       "      <th>confidence</th>\n",
       "      <th>lift</th>\n",
       "      <th>leverage</th>\n",
       "      <th>conviction</th>\n",
       "    </tr>\n",
       "  </thead>\n",
       "  <tbody>\n",
       "    <tr>\n",
       "      <th>3</th>\n",
       "      <td>(Maggie)</td>\n",
       "      <td>(Cold Coffee)</td>\n",
       "      <td>0.210526</td>\n",
       "      <td>0.315789</td>\n",
       "      <td>0.210526</td>\n",
       "      <td>1.000000</td>\n",
       "      <td>3.166667</td>\n",
       "      <td>0.144044</td>\n",
       "      <td>inf</td>\n",
       "    </tr>\n",
       "    <tr>\n",
       "      <th>0</th>\n",
       "      <td>(Fried Maggie)</td>\n",
       "      <td>(Black Tea)</td>\n",
       "      <td>0.315789</td>\n",
       "      <td>0.421053</td>\n",
       "      <td>0.210526</td>\n",
       "      <td>0.666667</td>\n",
       "      <td>1.583333</td>\n",
       "      <td>0.077562</td>\n",
       "      <td>1.736842</td>\n",
       "    </tr>\n",
       "    <tr>\n",
       "      <th>2</th>\n",
       "      <td>(Cold Coffee)</td>\n",
       "      <td>(Maggie)</td>\n",
       "      <td>0.315789</td>\n",
       "      <td>0.210526</td>\n",
       "      <td>0.210526</td>\n",
       "      <td>0.666667</td>\n",
       "      <td>3.166667</td>\n",
       "      <td>0.144044</td>\n",
       "      <td>2.368421</td>\n",
       "    </tr>\n",
       "    <tr>\n",
       "      <th>4</th>\n",
       "      <td>(Fried Maggie)</td>\n",
       "      <td>(Samosa)</td>\n",
       "      <td>0.315789</td>\n",
       "      <td>0.631579</td>\n",
       "      <td>0.210526</td>\n",
       "      <td>0.666667</td>\n",
       "      <td>1.055556</td>\n",
       "      <td>0.011080</td>\n",
       "      <td>1.105263</td>\n",
       "    </tr>\n",
       "    <tr>\n",
       "      <th>1</th>\n",
       "      <td>(Black Tea)</td>\n",
       "      <td>(Fried Maggie)</td>\n",
       "      <td>0.421053</td>\n",
       "      <td>0.315789</td>\n",
       "      <td>0.210526</td>\n",
       "      <td>0.500000</td>\n",
       "      <td>1.583333</td>\n",
       "      <td>0.077562</td>\n",
       "      <td>1.368421</td>\n",
       "    </tr>\n",
       "    <tr>\n",
       "      <th>5</th>\n",
       "      <td>(Samosa)</td>\n",
       "      <td>(Fried Maggie)</td>\n",
       "      <td>0.631579</td>\n",
       "      <td>0.315789</td>\n",
       "      <td>0.210526</td>\n",
       "      <td>0.333333</td>\n",
       "      <td>1.055556</td>\n",
       "      <td>0.011080</td>\n",
       "      <td>1.026316</td>\n",
       "    </tr>\n",
       "  </tbody>\n",
       "</table>\n",
       "</div>"
      ],
      "text/plain": [
       "      antecedents     consequents  antecedent support  consequent support  \\\n",
       "3        (Maggie)   (Cold Coffee)            0.210526            0.315789   \n",
       "0  (Fried Maggie)     (Black Tea)            0.315789            0.421053   \n",
       "2   (Cold Coffee)        (Maggie)            0.315789            0.210526   \n",
       "4  (Fried Maggie)        (Samosa)            0.315789            0.631579   \n",
       "1     (Black Tea)  (Fried Maggie)            0.421053            0.315789   \n",
       "5        (Samosa)  (Fried Maggie)            0.631579            0.315789   \n",
       "\n",
       "    support  confidence      lift  leverage  conviction  \n",
       "3  0.210526    1.000000  3.166667  0.144044         inf  \n",
       "0  0.210526    0.666667  1.583333  0.077562    1.736842  \n",
       "2  0.210526    0.666667  3.166667  0.144044    2.368421  \n",
       "4  0.210526    0.666667  1.055556  0.011080    1.105263  \n",
       "1  0.210526    0.500000  1.583333  0.077562    1.368421  \n",
       "5  0.210526    0.333333  1.055556  0.011080    1.026316  "
      ]
     },
     "execution_count": 35,
     "metadata": {},
     "output_type": "execute_result"
    }
   ],
   "source": [
    "support=apriori(encodedData,min_support=0.2,use_colnames=True)\n",
    "support.sort_values(by = 'support', ascending = False)\n",
    "confidence = association_rules(support, metric = 'confidence', min_threshold = 0.3)\n",
    "confidence.sort_values(by = 'confidence', ascending = False)"
   ]
  },
  {
   "cell_type": "code",
   "execution_count": null,
   "metadata": {
    "id": "nTDibtJrRmBv"
   },
   "outputs": [],
   "source": []
  },
  {
   "cell_type": "code",
   "execution_count": null,
   "metadata": {},
   "outputs": [],
   "source": []
  },
  {
   "cell_type": "code",
   "execution_count": null,
   "metadata": {},
   "outputs": [],
   "source": []
  },
  {
   "cell_type": "code",
   "execution_count": null,
   "metadata": {},
   "outputs": [],
   "source": []
  }
 ],
 "metadata": {
  "colab": {
   "provenance": []
  },
  "kernelspec": {
   "display_name": "Python 3 (ipykernel)",
   "language": "python",
   "name": "python3"
  },
  "language_info": {
   "codemirror_mode": {
    "name": "ipython",
    "version": 3
   },
   "file_extension": ".py",
   "mimetype": "text/x-python",
   "name": "python",
   "nbconvert_exporter": "python",
   "pygments_lexer": "ipython3",
   "version": "3.9.7"
  }
 },
 "nbformat": 4,
 "nbformat_minor": 1
}
